{
  "nbformat": 4,
  "nbformat_minor": 0,
  "metadata": {
    "colab": {
      "name": "Atul Tiwari - LPU_quiz_1.ipynb",
      "version": "0.3.2",
      "provenance": [],
      "collapsed_sections": [],
      "include_colab_link": true
    },
    "language_info": {
      "codemirror_mode": {
        "name": "ipython",
        "version": 3
      },
      "file_extension": ".py",
      "mimetype": "text/x-python",
      "name": "python",
      "nbconvert_exporter": "python",
      "pygments_lexer": "ipython3",
      "version": "3.6.8"
    },
    "kernelspec": {
      "display_name": "Python 3",
      "language": "python",
      "name": "python3"
    }
  },
  "cells": [
    {
      "cell_type": "markdown",
      "metadata": {
        "id": "view-in-github",
        "colab_type": "text"
      },
      "source": [
        "<a href=\"https://colab.research.google.com/github/atul-tiwari/Summer_Workshop/blob/master/Atul_Tiwari_LPU_quiz_1.ipynb\" target=\"_parent\"><img src=\"https://colab.research.google.com/assets/colab-badge.svg\" alt=\"Open In Colab\"/></a>"
      ]
    },
    {
      "cell_type": "markdown",
      "metadata": {
        "colab_type": "text",
        "id": "n0j8VqHv9QsH"
      },
      "source": [
        "## 1(point 1)\n",
        "Return the size of list.<br>\n",
        "Example- def list_size([1,2,3,4])-->4"
      ]
    },
    {
      "cell_type": "code",
      "metadata": {
        "colab_type": "code",
        "deletable": false,
        "id": "zcyRgbn09QsN",
        "nbgrader": {
          "checksum": "6a86db318c1917a0923a9aa904a8407d",
          "grade": false,
          "grade_id": "cell-b67bb4ec5c81ce7a",
          "locked": false,
          "schema_version": 1,
          "solution": true
        },
        "colab": {}
      },
      "source": [
        "def list_size(l):\n",
        "    '''\n",
        "    input:\n",
        "    l: list\n",
        "    output:\n",
        "    y: size of the list\n",
        "    '''\n",
        "    # YOUR CODE HERE\n",
        "    y = len(l)\n",
        "    return y"
      ],
      "execution_count": 0,
      "outputs": []
    },
    {
      "cell_type": "code",
      "metadata": {
        "colab_type": "code",
        "deletable": false,
        "editable": false,
        "id": "hCLfvyVq9s3z",
        "nbgrader": {
          "checksum": "0c44a95fa2e7b14ec892495b4a8fde29",
          "grade": true,
          "grade_id": "cell-7372255511ce8f91",
          "locked": true,
          "points": 1,
          "schema_version": 1,
          "solution": false
        },
        "colab": {}
      },
      "source": [
        "\"\"\"Testing code for last element\"\"\"\n",
        "assert list_size([1,2,3,4,5 ]) == 5\n"
      ],
      "execution_count": 0,
      "outputs": []
    },
    {
      "cell_type": "markdown",
      "metadata": {
        "colab_type": "text",
        "id": "t2aNdEIG9Qsa"
      },
      "source": [
        "## 2(point 1)\n",
        "Return list of last five element of the given list.<br>\n",
        "Example- def last_five(['a','b','c','d','e','f','g','h'])-->['d','e','f','g','h']"
      ]
    },
    {
      "cell_type": "code",
      "metadata": {
        "colab_type": "code",
        "deletable": false,
        "id": "xRYCB1lW9Qsc",
        "nbgrader": {
          "checksum": "0ec19d0a9df51eef0d02aabf93abf977",
          "grade": false,
          "grade_id": "cell-4a9fc6df4c9155de",
          "locked": false,
          "schema_version": 1,
          "solution": true
        },
        "colab": {}
      },
      "source": [
        "def last_five(l):\n",
        "    '''\n",
        "    input:\n",
        "        l: list\n",
        "    output:\n",
        "        y: list with last five elements\n",
        "    '''\n",
        "    # YOUR CODE HERE\n",
        "    y = l[-5:]\n",
        "    return y\n"
      ],
      "execution_count": 0,
      "outputs": []
    },
    {
      "cell_type": "code",
      "metadata": {
        "colab_type": "code",
        "deletable": false,
        "editable": false,
        "id": "gbycLMkR_pSI",
        "nbgrader": {
          "checksum": "fb081b60e364497c16dde469c89126fe",
          "grade": true,
          "grade_id": "cell-2616a801fd497a31",
          "locked": true,
          "points": 1,
          "schema_version": 1,
          "solution": false
        },
        "colab": {}
      },
      "source": [
        "\"\"\"Testing code for last five elements\"\"\"\n",
        "assert last_five([1,2,3,4,5,6,7]) == [3,4,5,6,7]\n"
      ],
      "execution_count": 0,
      "outputs": []
    },
    {
      "cell_type": "markdown",
      "metadata": {
        "colab_type": "text",
        "id": "6ZO5nlzG9Qsl"
      },
      "source": [
        "## 3(point 1)\n",
        "Check whether given element exists in the list or not. If it exists, then return True otherwise return False.<br>\n",
        "Example- def check_elem(['a','b','c','d','e','f','g','h'],'a')-->True<br>\n",
        "         def check_elem(['a','b','c','d','e','f','g','h'],'k')-->False"
      ]
    },
    {
      "cell_type": "code",
      "metadata": {
        "colab_type": "code",
        "deletable": false,
        "id": "OLIbfvfQ9Qso",
        "nbgrader": {
          "checksum": "4065a3d2eec3a520e1c4c71e8f2bb6ec",
          "grade": false,
          "grade_id": "cell-219fec5b6f23cc54",
          "locked": false,
          "schema_version": 1,
          "solution": true
        },
        "colab": {}
      },
      "source": [
        "def check_elem(l,elem):\n",
        "    '''\n",
        "    Input:\n",
        "        l: list \n",
        "    Output:\n",
        "        y: boolean in {True, False}\n",
        "    '''\n",
        "    # YOUR CODE HERE\n",
        "    y = False\n",
        "    if elem in l:\n",
        "      y =True\n",
        "    return y"
      ],
      "execution_count": 0,
      "outputs": []
    },
    {
      "cell_type": "code",
      "metadata": {
        "colab_type": "code",
        "deletable": false,
        "editable": false,
        "id": "0MN02b_fC1oz",
        "nbgrader": {
          "checksum": "ed70a4b227b1b4e98fb09b1e0430c19a",
          "grade": true,
          "grade_id": "cell-6f0ccd65631864c6",
          "locked": true,
          "points": 1,
          "schema_version": 1,
          "solution": false
        },
        "colab": {}
      },
      "source": [
        "\"\"\"Testing code to check \"\"\"\n",
        "assert check_elem([1,2,3,4,5,6,7],10) == False\n"
      ],
      "execution_count": 0,
      "outputs": []
    },
    {
      "cell_type": "markdown",
      "metadata": {
        "colab_type": "text",
        "id": "31a1hYUc9Qsv"
      },
      "source": [
        "## 4(point 1)\n",
        "Return the value after multiplication of all the elements of a list.<br>\n",
        "Example-  mult_value([1,2,3,4,5])-->120"
      ]
    },
    {
      "cell_type": "code",
      "metadata": {
        "colab_type": "code",
        "deletable": false,
        "id": "bX8apFe89Qsy",
        "nbgrader": {
          "checksum": "d1b31446c57525e8ccc329dcc2edcaf6",
          "grade": false,
          "grade_id": "cell-c58c2a108aef10bb",
          "locked": false,
          "schema_version": 1,
          "solution": true
        },
        "colab": {}
      },
      "source": [
        "def mult_value(l):\n",
        "    '''\n",
        "    input:\n",
        "        l: list\n",
        "    output:\n",
        "        y: Return the value after multiplication of all the elements of the list\n",
        "    '''\n",
        "    # YOUR CODE HERE\n",
        "    y = 1 \n",
        "    for x in l:\n",
        "      y*=x\n",
        "    return y\n"
      ],
      "execution_count": 0,
      "outputs": []
    },
    {
      "cell_type": "code",
      "metadata": {
        "colab_type": "code",
        "deletable": false,
        "editable": false,
        "id": "gY4cYDFtEK_8",
        "nbgrader": {
          "checksum": "9e8b30e26ac97df4b974e0ea18216bb9",
          "grade": true,
          "grade_id": "cell-c4ca65f6a05c2df3",
          "locked": true,
          "points": 1,
          "schema_version": 1,
          "solution": false
        },
        "colab": {}
      },
      "source": [
        "\"\"\"Testing code to return the value after Multiplication \"\"\"\n",
        "assert mult_value([1,2,3,4]) == 24\n"
      ],
      "execution_count": 0,
      "outputs": []
    },
    {
      "cell_type": "markdown",
      "metadata": {
        "colab_type": "text",
        "id": "MIXqNGfJ9Qs6"
      },
      "source": [
        "## 5(point 1)\n",
        "Return the number of times the element occurs in the list l.<br>\n",
        "Example- def Element_rept([1,2,3,4,1,2,3,1,1,5],1)-->4<br>\n",
        "def Element_rept(['a','f','g','h','c','s','d','f','a','b','c','d'],c)-->2"
      ]
    },
    {
      "cell_type": "code",
      "metadata": {
        "colab_type": "code",
        "deletable": false,
        "id": "q81sESnt9Qs8",
        "nbgrader": {
          "checksum": "4b53a46b1845eb9fbaa9704bed3597ab",
          "grade": false,
          "grade_id": "cell-1083c8e7a7fb1b22",
          "locked": false,
          "schema_version": 1,
          "solution": true
        },
        "colab": {}
      },
      "source": [
        "def Element_rept(l,element):\n",
        "    '''\n",
        "    input:\n",
        "        l: list\n",
        "        element: element to be checked for\n",
        "    output:\n",
        "        count: number of times the element occured in the list\n",
        "        \n",
        "    '''\n",
        "    # YOUR CODE HERE\n",
        "    count = 0 \n",
        "    for x in l:\n",
        "      if x == element:\n",
        "        count+=1\n",
        "    return count\n",
        "    "
      ],
      "execution_count": 0,
      "outputs": []
    },
    {
      "cell_type": "code",
      "metadata": {
        "colab_type": "code",
        "deletable": false,
        "editable": false,
        "id": "wU6UX_grFoUB",
        "nbgrader": {
          "checksum": "b31d93a7c6b0904b2f320d57799ccde2",
          "grade": true,
          "grade_id": "cell-a59073e635b8a564",
          "locked": true,
          "points": 1,
          "schema_version": 1,
          "solution": false
        },
        "colab": {}
      },
      "source": [
        "\"\"\"Testing code to return the value after Multiplication \"\"\"\n",
        "assert Element_rept([1,4,1,2,3,1,5],10) == 0\n",
        "assert Element_rept(['k','f','g','h','k','s','d','f','a','b','c','d'],'k') == 2"
      ],
      "execution_count": 0,
      "outputs": []
    },
    {
      "cell_type": "markdown",
      "metadata": {
        "colab_type": "text",
        "id": "Fx_zx2Zw9QtD"
      },
      "source": [
        "## 6(point 1)\n",
        "Return the size of dictionary.<br>\n",
        "Example- def dict_size({1:\"akshay\",2:\"vikash\"})-->2"
      ]
    },
    {
      "cell_type": "code",
      "metadata": {
        "colab_type": "code",
        "deletable": false,
        "id": "OUswJgFM9QtG",
        "nbgrader": {
          "checksum": "fde0ebc69585b6ffe11d0a48d0ca6b0c",
          "grade": false,
          "grade_id": "cell-fcff3a57231a7c68",
          "locked": false,
          "schema_version": 1,
          "solution": true
        },
        "colab": {}
      },
      "source": [
        "def dict_size(d):\n",
        "    '''\n",
        "    input:\n",
        "        d: dictionary\n",
        "    output:\n",
        "        y: size of the dictionary\n",
        "    '''\n",
        "    # YOUR CODE HERE\n",
        "    y = len(d)\n",
        "    return y"
      ],
      "execution_count": 0,
      "outputs": []
    },
    {
      "cell_type": "code",
      "metadata": {
        "colab_type": "code",
        "deletable": false,
        "editable": false,
        "id": "EgOAPhgMIfaT",
        "nbgrader": {
          "checksum": "c273fdaa736dfa4c3c9b6a22474a3b90",
          "grade": true,
          "grade_id": "cell-60e0030f95d46962",
          "locked": true,
          "points": 1,
          "schema_version": 1,
          "solution": false
        },
        "colab": {}
      },
      "source": [
        "\"\"\"Testing code to return the length\"\"\"\n",
        "\n",
        "assert dict_size({1:1,2:2,3:3 }) == 3\n"
      ],
      "execution_count": 0,
      "outputs": []
    },
    {
      "cell_type": "markdown",
      "metadata": {
        "colab_type": "text",
        "id": "vsYZWylf9QtN"
      },
      "source": [
        "## 7(point 1)\n",
        "Return the sorted list of keys.<br>\n",
        "Examle- def Sort_keyList({5:'IIT K',10:\"IIT Jodhpur\",3:\"IIT Jaipur\"})-->[3,5,10]"
      ]
    },
    {
      "cell_type": "code",
      "metadata": {
        "colab_type": "code",
        "deletable": false,
        "id": "zMIh2HB09QtP",
        "nbgrader": {
          "checksum": "0cf72e5fb44678f0dc163912e6b25244",
          "grade": false,
          "grade_id": "cell-995343a8f83fc838",
          "locked": false,
          "schema_version": 1,
          "solution": true
        },
        "colab": {}
      },
      "source": [
        "def Sort_keyList(d):\n",
        "    '''\n",
        "    input:\n",
        "        d: dictionary\n",
        "    output:\n",
        "        result: Return the sorted list of keys\n",
        "        '''\n",
        "    # YOUR CODE HERE\n",
        "    result = list(d.keys())\n",
        "    result.sort()\n",
        "    return result"
      ],
      "execution_count": 0,
      "outputs": []
    },
    {
      "cell_type": "code",
      "metadata": {
        "colab_type": "code",
        "deletable": false,
        "editable": false,
        "id": "yHxb17wCJl0n",
        "nbgrader": {
          "checksum": "563b67af2eef10c1efb857ba0ef3fbaf",
          "grade": true,
          "grade_id": "cell-4c14ad68ef293635",
          "locked": true,
          "points": 1,
          "schema_version": 1,
          "solution": false
        },
        "colab": {}
      },
      "source": [
        "\"\"\"Testing code to sort the dictionary\"\"\"\n",
        "assert Sort_keyList({5:'IIT K',10:\"IIT Jodhpur\",3:\"IIT Jaipur\"}) == [3,5,10]\n"
      ],
      "execution_count": 0,
      "outputs": []
    },
    {
      "cell_type": "markdown",
      "metadata": {
        "colab_type": "text",
        "id": "QmGPnr8b9QtV"
      },
      "source": [
        "## 8(point 1)\n",
        "Check wether given number is prime or not. If yes, then return 1, otherwise return 0.<br>\n",
        "Example- def is_prime(5)-->1<br>\n",
        "         def is_prime(4)-->0"
      ]
    },
    {
      "cell_type": "code",
      "metadata": {
        "colab_type": "code",
        "deletable": false,
        "id": "OFk7Eu3S9QtY",
        "nbgrader": {
          "checksum": "e4240b66482ffc53366c56501f0d13f1",
          "grade": false,
          "grade_id": "cell-5b8fe981edaf53ea",
          "locked": false,
          "schema_version": 1,
          "solution": true
        },
        "colab": {}
      },
      "source": [
        "def is_prime(n):\n",
        "    '''\n",
        "    input:\n",
        "        n: integer\n",
        "    output:\n",
        "        return 0 for not prime\n",
        "        return 1 for prime\n",
        "        '''\n",
        "    # YOUR CODE HERE\n",
        "    if n<=1 :\n",
        "      return 0\n",
        "    else:\n",
        "      for x in range(2,n):\n",
        "        if n%x==0:\n",
        "          return 0\n",
        "      return 1   "
      ],
      "execution_count": 0,
      "outputs": []
    },
    {
      "cell_type": "code",
      "metadata": {
        "colab_type": "code",
        "deletable": false,
        "editable": false,
        "id": "P1kOLnOWLVuC",
        "nbgrader": {
          "checksum": "073c4f0962a77595963d0be3822adaec",
          "grade": true,
          "grade_id": "cell-b7ccc13244089041",
          "locked": true,
          "points": 1,
          "schema_version": 1,
          "solution": false
        },
        "colab": {}
      },
      "source": [
        "\"\"\"Testing code to check given number is prime or not \"\"\"\n",
        "assert is_prime(13) == 1\n"
      ],
      "execution_count": 0,
      "outputs": []
    },
    {
      "cell_type": "markdown",
      "metadata": {
        "colab_type": "text",
        "id": "brmymJVE9Qtg"
      },
      "source": [
        "## 9(point 2)\n",
        "Using the above fuction return list of prime number from a to b.<br>\n",
        "Example- def primeNumberList(1,10)-->[2, 3, 5, 7]<br>\n",
        "        "
      ]
    },
    {
      "cell_type": "code",
      "metadata": {
        "colab_type": "code",
        "deletable": false,
        "id": "vRjYj9Oq9Qth",
        "nbgrader": {
          "checksum": "1084f7797655a1d8bc563849913005da",
          "grade": false,
          "grade_id": "cell-43bbf195e404710e",
          "locked": false,
          "schema_version": 1,
          "solution": true
        },
        "colab": {}
      },
      "source": [
        "def primeNumberList(a,b):\n",
        "    '''\n",
        "    Input:\n",
        "    a: staring integer\n",
        "    b: ending integer\n",
        "    Output:\n",
        "    return the list of prime numbers from a to b\n",
        "    '''\n",
        "    # YOUR CODE HERE\n",
        "    newl=[]\n",
        "    for x in range(a,b+1):\n",
        "      if is_prime(x)==1: # is_prime is function from last question\n",
        "        newl.append(x)\n",
        "    return newl"
      ],
      "execution_count": 0,
      "outputs": []
    },
    {
      "cell_type": "code",
      "metadata": {
        "colab_type": "code",
        "deletable": false,
        "editable": false,
        "id": "VHMd5d13Mc8R",
        "nbgrader": {
          "checksum": "3b07bfb0d5da287594c586f7818b8c2f",
          "grade": true,
          "grade_id": "cell-7af742941e9ee3ef",
          "locked": true,
          "points": 1,
          "schema_version": 1,
          "solution": false
        },
        "colab": {}
      },
      "source": [
        "\"\"\"Testing code to list of prime number \"\"\"\n",
        "assert primeNumberList(2,10) == [2, 3, 5, 7]"
      ],
      "execution_count": 0,
      "outputs": []
    },
    {
      "cell_type": "code",
      "metadata": {
        "id": "yiBWEarX2ghN",
        "colab_type": "code",
        "colab": {}
      },
      "source": [
        ""
      ],
      "execution_count": 0,
      "outputs": []
    }
  ]
}