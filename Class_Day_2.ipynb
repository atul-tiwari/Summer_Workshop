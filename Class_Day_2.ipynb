{
  "nbformat": 4,
  "nbformat_minor": 0,
  "metadata": {
    "colab": {
      "name": "Class_Day_2.ipynb",
      "version": "0.3.2",
      "provenance": [],
      "collapsed_sections": [],
      "include_colab_link": true
    },
    "kernelspec": {
      "name": "python3",
      "display_name": "Python 3"
    }
  },
  "cells": [
    {
      "cell_type": "markdown",
      "metadata": {
        "id": "view-in-github",
        "colab_type": "text"
      },
      "source": [
        "<a href=\"https://colab.research.google.com/github/atul-tiwari/Summer_Workshop/blob/master/Class_Day_2.ipynb\" target=\"_parent\"><img src=\"https://colab.research.google.com/assets/colab-badge.svg\" alt=\"Open In Colab\"/></a>"
      ]
    },
    {
      "cell_type": "code",
      "metadata": {
        "id": "ALBDW3xBhd8b",
        "colab_type": "code",
        "outputId": "a360b3b2-ad22-4efb-d88d-0b331a700e81",
        "colab": {
          "base_uri": "https://localhost:8080/",
          "height": 84
        }
      },
      "source": [
        "import numpy as np\n",
        "\n",
        "In   = np.zeros((4,2))\n",
        "\n",
        "# ones first attribute is row and next is cloumn \n",
        "\n",
        "print(In)"
      ],
      "execution_count": 1,
      "outputs": [
        {
          "output_type": "stream",
          "text": [
            "[[0. 0.]\n",
            " [0. 0.]\n",
            " [0. 0.]\n",
            " [0. 0.]]\n"
          ],
          "name": "stdout"
        }
      ]
    },
    {
      "cell_type": "code",
      "metadata": {
        "id": "k5OLyxdbh14w",
        "colab_type": "code",
        "outputId": "849d9fdf-09a0-4856-b558-223fcfe70562",
        "colab": {
          "base_uri": "https://localhost:8080/",
          "height": 84
        }
      },
      "source": [
        "In[0,0] = 5\n",
        "In[0,1] = 3\n",
        "In[1,0] = 5.1\n",
        "In[1,1] = 2.5\n",
        "In[2,0] = 2.5\n",
        "In[2,1] = 4.9\n",
        "In[3,0] = 2.8\n",
        "In[3,1] = 5.2\n",
        "\n",
        "print(In)"
      ],
      "execution_count": 2,
      "outputs": [
        {
          "output_type": "stream",
          "text": [
            "[[5.  3. ]\n",
            " [5.1 2.5]\n",
            " [2.5 4.9]\n",
            " [2.8 5.2]]\n"
          ],
          "name": "stdout"
        }
      ]
    },
    {
      "cell_type": "code",
      "metadata": {
        "id": "wGAiGL82lVsL",
        "colab_type": "code",
        "outputId": "3f669dbf-4978-4084-bc1d-c84d583ceb5a",
        "colab": {
          "base_uri": "https://localhost:8080/",
          "height": 50
        }
      },
      "source": [
        "Op = np.zeros((4,))\n",
        "\n",
        "Op[0]=0\n",
        "Op[1]=0\n",
        "Op[2]=1\n",
        "Op[3]=1\n",
        "\n",
        "print (Op)\n",
        "Op.reshape(-1,1)\n",
        "print (Op)"
      ],
      "execution_count": 13,
      "outputs": [
        {
          "output_type": "stream",
          "text": [
            "[0. 0. 1. 1.]\n",
            "[0. 0. 1. 1.]\n"
          ],
          "name": "stdout"
        }
      ]
    },
    {
      "cell_type": "code",
      "metadata": {
        "id": "mUD1MFSKl-Lq",
        "colab_type": "code",
        "outputId": "bbb27fae-3e96-44ae-a2c8-e9684eaeec82",
        "colab": {
          "base_uri": "https://localhost:8080/",
          "height": 300
        }
      },
      "source": [
        "import matplotlib.pyplot as plt\n",
        "\n",
        "plt.plot(In[:2,1],In[:2,0],'ro')\n",
        "plt.plot(In[2:,1],In[2:,0],'bo')\n",
        "\n",
        "plt.xlabel('Hight')\n",
        "plt.ylabel('Width')"
      ],
      "execution_count": 4,
      "outputs": [
        {
          "output_type": "execute_result",
          "data": {
            "text/plain": [
              "Text(0, 0.5, 'Width')"
            ]
          },
          "metadata": {
            "tags": []
          },
          "execution_count": 4
        },
        {
          "output_type": "display_data",
          "data": {
            "image/png": "[encoded data removed]",
            "text/plain": [
              "<Figure size 432x288 with 1 Axes>"
            ]
          },
          "metadata": {
            "tags": []
          }
        }
      ]
    },
    {
      "cell_type": "code",
      "metadata": {
        "id": "frLuQG22mQKv",
        "colab_type": "code",
        "outputId": "98128210-b7cf-4f21-a582-16b4871dd26e",
        "colab": {
          "base_uri": "https://localhost:8080/",
          "height": 34
        }
      },
      "source": [
        "print(In.shape[0])"
      ],
      "execution_count": 5,
      "outputs": [
        {
          "output_type": "stream",
          "text": [
            "4\n"
          ],
          "name": "stdout"
        }
      ]
    },
    {
      "cell_type": "code",
      "metadata": {
        "id": "TRlCt4eKpRpv",
        "colab_type": "code",
        "outputId": "6fbd694a-a17b-4543-bda3-2c9013ed4c8b",
        "colab": {
          "base_uri": "https://localhost:8080/",
          "height": 34
        }
      },
      "source": [
        "def noOfSample(X):\n",
        "  n= X.shape[0]\n",
        "  return n\n",
        "\n",
        "noOfSample(In)"
      ],
      "execution_count": 6,
      "outputs": [
        {
          "output_type": "execute_result",
          "data": {
            "text/plain": [
              "4"
            ]
          },
          "metadata": {
            "tags": []
          },
          "execution_count": 6
        }
      ]
    },
    {
      "cell_type": "code",
      "metadata": {
        "id": "-zjGpLKqrPoE",
        "colab_type": "code",
        "outputId": "75bbf32d-aa98-4edd-d672-bbd25d167a29",
        "colab": {
          "base_uri": "https://localhost:8080/",
          "height": 34
        }
      },
      "source": [
        "def getNoOfRoseSample(X,Y):\n",
        "  count = 0 \n",
        "  for i in Y:\n",
        "    if i == 0 : count+=1\n",
        "  return count\n",
        "\n",
        "getNoOfRoseSample(In, Op)"
      ],
      "execution_count": 7,
      "outputs": [
        {
          "output_type": "execute_result",
          "data": {
            "text/plain": [
              "2"
            ]
          },
          "metadata": {
            "tags": []
          },
          "execution_count": 7
        }
      ]
    },
    {
      "cell_type": "code",
      "metadata": {
        "id": "WAxLrVDcsEye",
        "colab_type": "code",
        "outputId": "ef07f777-bbdf-4fdf-be2f-fa55983c785e",
        "colab": {
          "base_uri": "https://localhost:8080/",
          "height": 50
        }
      },
      "source": [
        "def meanSampleofAClass(X,Y,y):\n",
        "  SumX = 0\n",
        "  SumY = 0\n",
        "  Count = 0\n",
        "  for i in range (Y.shape[0]):\n",
        "    if Y[i] == y:\n",
        "      SumX += X[i,1]\n",
        "      SumY += X[i,0]\n",
        "      Count +=1\n",
        "  return [SumX/Count,SumY/Count]\n",
        "\n",
        "Rose_Cen = meanSampleofAClass(In,Op,0)\n",
        "Lot_Cen = meanSampleofAClass(In,Op,1)\n",
        "\n",
        "Ce = np.array([Rose_Cen,Lot_Cen])\n",
        "\n",
        "print(Ce)\n",
        "\n"
      ],
      "execution_count": 8,
      "outputs": [
        {
          "output_type": "stream",
          "text": [
            "[[2.75 5.05]\n",
            " [5.05 2.65]]\n"
          ],
          "name": "stdout"
        }
      ]
    },
    {
      "cell_type": "code",
      "metadata": {
        "id": "QhBmI7s_vEki",
        "colab_type": "code",
        "outputId": "fbf802b0-c515-447d-f068-4a79f148fb3b",
        "colab": {
          "base_uri": "https://localhost:8080/",
          "height": 300
        }
      },
      "source": [
        "import matplotlib.pyplot as plt\n",
        "\n",
        "plt.plot(In[:2,1],In[:2,0],'ro')\n",
        "plt.plot(In[2:,1],In[2:,0],'bo')\n",
        "\n",
        "plt.xlabel('Hight')\n",
        "plt.ylabel('Width')\n",
        "\n",
        "plt.plot(Ce[:,0],Ce[:,1],'go')"
      ],
      "execution_count": 9,
      "outputs": [
        {
          "output_type": "execute_result",
          "data": {
            "text/plain": [
              "[<matplotlib.lines.Line2D at 0x7f034e0d4b70>]"
            ]
          },
          "metadata": {
            "tags": []
          },
          "execution_count": 9
        },
        {
          "output_type": "display_data",
          "data": {
            "image/png": "[encoded data removed]",
            "text/plain": [
              "<Figure size 432x288 with 1 Axes>"
            ]
          },
          "metadata": {
            "tags": []
          }
        }
      ]
    },
    {
      "cell_type": "code",
      "metadata": {
        "id": "HxCRC9xZvxDh",
        "colab_type": "code",
        "colab": {}
      },
      "source": [
        ""
      ],
      "execution_count": 0,
      "outputs": []
    }
  ]
}