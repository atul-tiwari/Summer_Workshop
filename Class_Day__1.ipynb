{
  "nbformat": 4,
  "nbformat_minor": 0,
  "metadata": {
    "colab": {
      "name": "Class_Day _1.ipynb",
      "version": "0.3.2",
      "provenance": [],
      "collapsed_sections": [],
      "include_colab_link": true
    },
    "kernelspec": {
      "name": "python3",
      "display_name": "Python 3"
    }
  },
  "cells": [
    {
      "cell_type": "markdown",
      "metadata": {
        "id": "view-in-github",
        "colab_type": "text"
      },
      "source": [
        "<a href=\"https://colab.research.google.com/github/atul-tiwari/Summer_Workshop/blob/master/Class_Day__1.ipynb\" target=\"_parent\"><img src=\"https://colab.research.google.com/assets/colab-badge.svg\" alt=\"Open In Colab\"/></a>"
      ]
    },
    {
      "cell_type": "code",
      "metadata": {
        "id": "pF4FuvxT9JYF",
        "colab_type": "code",
        "colab": {
          "base_uri": "https://localhost:8080/",
          "height": 34
        },
        "outputId": "140870e2-5c5f-459d-8d81-6479ce6c66a0"
      },
      "source": [
        "a=[1,4,5]\n",
        "print(a)"
      ],
      "execution_count": 66,
      "outputs": [
        {
          "output_type": "stream",
          "text": [
            "[1, 4, 5]\n"
          ],
          "name": "stdout"
        }
      ]
    },
    {
      "cell_type": "markdown",
      "metadata": {
        "id": "48vGakG49W0T",
        "colab_type": "text"
      },
      "source": [
        ""
      ]
    },
    {
      "cell_type": "code",
      "metadata": {
        "id": "72JNd82Z9lcN",
        "colab_type": "code",
        "colab": {
          "base_uri": "https://localhost:8080/",
          "height": 34
        },
        "outputId": "7ec1eaac-1638-4da6-bd30-f7b5244b4615"
      },
      "source": [
        "a=12\n",
        "b=6\n",
        "\n",
        "print(a+b, a-b,a*b,a/b)"
      ],
      "execution_count": 67,
      "outputs": [
        {
          "output_type": "stream",
          "text": [
            "18 6 72 2.0\n"
          ],
          "name": "stdout"
        }
      ]
    },
    {
      "cell_type": "code",
      "metadata": {
        "id": "S9J44DSo950s",
        "colab_type": "code",
        "colab": {
          "base_uri": "https://localhost:8080/",
          "height": 50
        },
        "outputId": "91ee9ac1-fe22-4570-89e0-e0406a346e4e"
      },
      "source": [
        "a= 2.0\n",
        "print(type(a))\n",
        "b= 2\n",
        "print(type(b))"
      ],
      "execution_count": 68,
      "outputs": [
        {
          "output_type": "stream",
          "text": [
            "<class 'float'>\n",
            "<class 'int'>\n"
          ],
          "name": "stdout"
        }
      ]
    },
    {
      "cell_type": "markdown",
      "metadata": {
        "id": "p0cslBitEIWv",
        "colab_type": "text"
      },
      "source": [
        "# String \n",
        "\n",
        "1. InMutable"
      ]
    },
    {
      "cell_type": "code",
      "metadata": {
        "id": "s-mSQKcd_IGC",
        "colab_type": "code",
        "colab": {
          "base_uri": "https://localhost:8080/",
          "height": 50
        },
        "outputId": "2ff9aba5-b449-4eef-997e-68be1cdd582d"
      },
      "source": [
        "Str1 = \"Banana\"\n",
        "Str2 = \"Shake\"\n",
        "\n",
        "Str = Str1+Str2\n",
        "\n",
        "print(Str)\n",
        "\n",
        "Str = Str1+\" \"+Str2\n",
        "\n",
        "print(Str)"
      ],
      "execution_count": 69,
      "outputs": [
        {
          "output_type": "stream",
          "text": [
            "BananaShake\n",
            "Banana Shake\n"
          ],
          "name": "stdout"
        }
      ]
    },
    {
      "cell_type": "code",
      "metadata": {
        "id": "YILF3E1r_mE-",
        "colab_type": "code",
        "colab": {
          "base_uri": "https://localhost:8080/",
          "height": 50
        },
        "outputId": "8354b08b-867e-4d02-fb5d-6c42d46b3b3c"
      },
      "source": [
        "#indexing \n",
        "\n",
        "print(Str[-1]) #last Char\n",
        "\n",
        "print(Str[1:5]) #last not included\n"
      ],
      "execution_count": 70,
      "outputs": [
        {
          "output_type": "stream",
          "text": [
            "e\n",
            "anan\n"
          ],
          "name": "stdout"
        }
      ]
    },
    {
      "cell_type": "code",
      "metadata": {
        "id": "0oWZGrIT_8__",
        "colab_type": "code",
        "colab": {
          "base_uri": "https://localhost:8080/",
          "height": 34
        },
        "outputId": "246ced1a-6a3a-4dda-f4f8-10881a7933ef"
      },
      "source": [
        "#length\n",
        "\n",
        "print(len(Str))"
      ],
      "execution_count": 71,
      "outputs": [
        {
          "output_type": "stream",
          "text": [
            "12\n"
          ],
          "name": "stdout"
        }
      ]
    },
    {
      "cell_type": "markdown",
      "metadata": {
        "id": "DhW2kwU5BOYo",
        "colab_type": "text"
      },
      "source": [
        "#List\n",
        "\n",
        "1. Mutable\n",
        "2. Hetrogeneous\n"
      ]
    },
    {
      "cell_type": "code",
      "metadata": {
        "id": "yFR_WlHHEFXN",
        "colab_type": "code",
        "colab": {
          "base_uri": "https://localhost:8080/",
          "height": 50
        },
        "outputId": "68857f87-9f39-457c-bed0-588f9b0225d9"
      },
      "source": [
        "a =[\"Milk\",\"Banana\",\"Carrot\"]\n",
        "print(a)\n",
        "print(len(a))"
      ],
      "execution_count": 72,
      "outputs": [
        {
          "output_type": "stream",
          "text": [
            "['Milk', 'Banana', 'Carrot']\n",
            "3\n"
          ],
          "name": "stdout"
        }
      ]
    },
    {
      "cell_type": "code",
      "metadata": {
        "id": "HuyKMOsrBMxn",
        "colab_type": "code",
        "colab": {
          "base_uri": "https://localhost:8080/",
          "height": 50
        },
        "outputId": "20c1eb8d-4d7d-451f-b41a-4ee1361e4a24"
      },
      "source": [
        "#indexing in list\n",
        "\n",
        "print(a[2])\n",
        "\n",
        "print(a[2][3])\n"
      ],
      "execution_count": 73,
      "outputs": [
        {
          "output_type": "stream",
          "text": [
            "Carrot\n",
            "r\n"
          ],
          "name": "stdout"
        }
      ]
    },
    {
      "cell_type": "code",
      "metadata": {
        "id": "t0C75Es7BgwY",
        "colab_type": "code",
        "colab": {
          "base_uri": "https://localhost:8080/",
          "height": 34
        },
        "outputId": "1a693681-7f5d-4048-c49c-db0b8f2b0278"
      },
      "source": [
        "a[2]=\"Tomato\"\n",
        "print(a)"
      ],
      "execution_count": 74,
      "outputs": [
        {
          "output_type": "stream",
          "text": [
            "['Milk', 'Banana', 'Tomato']\n"
          ],
          "name": "stdout"
        }
      ]
    },
    {
      "cell_type": "code",
      "metadata": {
        "id": "aEyTPgKuB4hW",
        "colab_type": "code",
        "colab": {
          "base_uri": "https://localhost:8080/",
          "height": 34
        },
        "outputId": "19706b41-133a-411e-ee4b-8d510bd91ef2"
      },
      "source": [
        "#Concadation\n",
        "\n",
        "b= [\"Rice\",\"Apple\"]\n",
        "c= a+b\n",
        "print(c)\n"
      ],
      "execution_count": 75,
      "outputs": [
        {
          "output_type": "stream",
          "text": [
            "['Milk', 'Banana', 'Tomato', 'Rice', 'Apple']\n"
          ],
          "name": "stdout"
        }
      ]
    },
    {
      "cell_type": "code",
      "metadata": {
        "id": "1IQgGk1jCUsE",
        "colab_type": "code",
        "colab": {
          "base_uri": "https://localhost:8080/",
          "height": 34
        },
        "outputId": "77b59cb4-6f46-4f8b-a3a9-2f643360bf77"
      },
      "source": [
        "#append\n",
        "c.append(\"Salt\")\n",
        "print(c)"
      ],
      "execution_count": 76,
      "outputs": [
        {
          "output_type": "stream",
          "text": [
            "['Milk', 'Banana', 'Tomato', 'Rice', 'Apple', 'Salt']\n"
          ],
          "name": "stdout"
        }
      ]
    },
    {
      "cell_type": "code",
      "metadata": {
        "id": "jbcvbjmNCb3r",
        "colab_type": "code",
        "colab": {
          "base_uri": "https://localhost:8080/",
          "height": 50
        },
        "outputId": "eb19c513-6621-460a-a8c8-4bf47e2b41ff"
      },
      "source": [
        "a= [1,2,3,\"ABC\"]\n",
        "b=[2.4,4,\"CDE\"]\n",
        "\n",
        "c= a+b\n",
        "print(c)\n",
        "\n",
        "print(c[5])\n"
      ],
      "execution_count": 77,
      "outputs": [
        {
          "output_type": "stream",
          "text": [
            "[1, 2, 3, 'ABC', 2.4, 4, 'CDE']\n",
            "4\n"
          ],
          "name": "stdout"
        }
      ]
    },
    {
      "cell_type": "markdown",
      "metadata": {
        "id": "yXUyFh5FFwop",
        "colab_type": "text"
      },
      "source": [
        "# Dictionaries\n",
        "\n",
        "To Add Quantites to your list"
      ]
    },
    {
      "cell_type": "code",
      "metadata": {
        "id": "1wsvRzOLFo6A",
        "colab_type": "code",
        "colab": {
          "base_uri": "https://localhost:8080/",
          "height": 50
        },
        "outputId": "c524c5ef-5117-4c14-e672-fe1398655eb0"
      },
      "source": [
        "a={\"Milk\":\"1 lit\",\"Banana\":\"12\",\"Carrot\":\"5\"}\n",
        "\n",
        "print(len(a))\n",
        "print(a)"
      ],
      "execution_count": 78,
      "outputs": [
        {
          "output_type": "stream",
          "text": [
            "3\n",
            "{'Milk': '1 lit', 'Banana': '12', 'Carrot': '5'}\n"
          ],
          "name": "stdout"
        }
      ]
    },
    {
      "cell_type": "code",
      "metadata": {
        "id": "x4h8r9UvGLyO",
        "colab_type": "code",
        "colab": {
          "base_uri": "https://localhost:8080/",
          "height": 50
        },
        "outputId": "a90081fe-7ca8-45bd-bbf7-c8355ef7929c"
      },
      "source": [
        "print(a[\"Banana\"]) # to get a value write the key in []\n",
        "\n",
        "a[\"Banana\"] = 10\n",
        "\n",
        "print(a)\n",
        "\n",
        "## printa[1] will be an error \n",
        "  #in dictonary we only use Key"
      ],
      "execution_count": 79,
      "outputs": [
        {
          "output_type": "stream",
          "text": [
            "12\n",
            "{'Milk': '1 lit', 'Banana': 10, 'Carrot': '5'}\n"
          ],
          "name": "stdout"
        }
      ]
    },
    {
      "cell_type": "markdown",
      "metadata": {
        "id": "c3uOTH-gGjhd",
        "colab_type": "text"
      },
      "source": [
        ""
      ]
    },
    {
      "cell_type": "code",
      "metadata": {
        "id": "V1ydpiuIGVdm",
        "colab_type": "code",
        "colab": {
          "base_uri": "https://localhost:8080/",
          "height": 34
        },
        "outputId": "10547278-6f90-4b53-e53f-67225a725d01"
      },
      "source": [
        "#add  anew items\n",
        "\n",
        "a[\"Apple\"] = \"10 kg\"\n",
        "\n",
        "print(a)\n"
      ],
      "execution_count": 80,
      "outputs": [
        {
          "output_type": "stream",
          "text": [
            "{'Milk': '1 lit', 'Banana': 10, 'Carrot': '5', 'Apple': '10 kg'}\n"
          ],
          "name": "stdout"
        }
      ]
    },
    {
      "cell_type": "code",
      "metadata": {
        "id": "u0hWBLNpG9TS",
        "colab_type": "code",
        "colab": {
          "base_uri": "https://localhost:8080/",
          "height": 67
        },
        "outputId": "fe563651-3f14-4a41-e36e-79a4c420513c"
      },
      "source": [
        "print(a.keys())\n",
        "print(type(a.keys()))\n",
        "print(a.values())\n",
        "\n",
        "#return as list's"
      ],
      "execution_count": 81,
      "outputs": [
        {
          "output_type": "stream",
          "text": [
            "dict_keys(['Milk', 'Banana', 'Carrot', 'Apple'])\n",
            "<class 'dict_keys'>\n",
            "dict_values(['1 lit', 10, '5', '10 kg'])\n"
          ],
          "name": "stdout"
        }
      ]
    },
    {
      "cell_type": "markdown",
      "metadata": {
        "id": "OQe2wKyMJQVA",
        "colab_type": "text"
      },
      "source": [
        "#Conditionals\n",
        "\n",
        "if,elif,else\n",
        "\n",
        "\n"
      ]
    },
    {
      "cell_type": "code",
      "metadata": {
        "id": "FuOD0--FJdjj",
        "colab_type": "code",
        "colab": {
          "base_uri": "https://localhost:8080/",
          "height": 34
        },
        "outputId": "ccc5b9ca-7c28-40b0-eca8-fe191b547420"
      },
      "source": [
        "i = 10\n",
        "if i<0:\n",
        "  print(\"Negative\")\n",
        "elif i>0:\n",
        "  print(\"Possitive\")\n",
        "else:\n",
        "  print(\"It is Zero\")"
      ],
      "execution_count": 82,
      "outputs": [
        {
          "output_type": "stream",
          "text": [
            "Possitive\n"
          ],
          "name": "stdout"
        }
      ]
    },
    {
      "cell_type": "code",
      "metadata": {
        "id": "GbFm-mEPJ8Ll",
        "colab_type": "code",
        "colab": {
          "base_uri": "https://localhost:8080/",
          "height": 34
        },
        "outputId": "c5863d0f-ab0a-4e53-f954-97e1066e907d"
      },
      "source": [
        "a={\"Item 1\":1,\"Item 2\":3,\"Item 3\":10}\n",
        "\n",
        "if \"Item 2\" in a: # if bannana ids in Dict or not\n",
        "  a[\"Item 2\"] = a[\"Item 2\"]+5\n",
        "else:\n",
        "  a[\"Item 2\"] = 5\n",
        "  \n",
        "print(a)"
      ],
      "execution_count": 83,
      "outputs": [
        {
          "output_type": "stream",
          "text": [
            "{'Item 1': 1, 'Item 2': 8, 'Item 3': 10}\n"
          ],
          "name": "stdout"
        }
      ]
    },
    {
      "cell_type": "markdown",
      "metadata": {
        "id": "Rj5_NR_-Lc80",
        "colab_type": "text"
      },
      "source": [
        "#loops\n",
        "  1 While \n",
        "  \n",
        "  2 for \n",
        "  "
      ]
    },
    {
      "cell_type": "code",
      "metadata": {
        "id": "TjrAI3BDLxGR",
        "colab_type": "code",
        "colab": {
          "base_uri": "https://localhost:8080/",
          "height": 67
        },
        "outputId": "8badc258-fd4e-48ca-f8dc-e41b8233045f"
      },
      "source": [
        "for I in a:\n",
        "  print(I,\"-\",a[I])\n",
        "  "
      ],
      "execution_count": 84,
      "outputs": [
        {
          "output_type": "stream",
          "text": [
            "Item 1 - 1\n",
            "Item 2 - 8\n",
            "Item 3 - 10\n"
          ],
          "name": "stdout"
        }
      ]
    },
    {
      "cell_type": "code",
      "metadata": {
        "id": "p3FcO12DMGaA",
        "colab_type": "code",
        "colab": {
          "base_uri": "https://localhost:8080/",
          "height": 101
        },
        "outputId": "ba1cad8f-f16b-4079-927d-afe3374b6e27"
      },
      "source": [
        "i=1\n",
        "for k in range(5):\n",
        "  i+=1\n",
        "  print(i)"
      ],
      "execution_count": 85,
      "outputs": [
        {
          "output_type": "stream",
          "text": [
            "2\n",
            "3\n",
            "4\n",
            "5\n",
            "6\n"
          ],
          "name": "stdout"
        }
      ]
    },
    {
      "cell_type": "code",
      "metadata": {
        "id": "yZEW5I6vM0z0",
        "colab_type": "code",
        "colab": {
          "base_uri": "https://localhost:8080/",
          "height": 67
        },
        "outputId": "481aed8c-19ed-4870-e947-6648b3bc2d96"
      },
      "source": [
        "i =0\n",
        "Sum=0\n",
        "while(Sum<10):\n",
        "  print(i)\n",
        "  i+=1\n",
        "  Sum=Sum + i*i\n",
        "    \n",
        "  "
      ],
      "execution_count": 86,
      "outputs": [
        {
          "output_type": "stream",
          "text": [
            "0\n",
            "1\n",
            "2\n"
          ],
          "name": "stdout"
        }
      ]
    },
    {
      "cell_type": "code",
      "metadata": {
        "id": "G9G6OGgrNRLJ",
        "colab_type": "code",
        "colab": {}
      },
      "source": [
        ""
      ],
      "execution_count": 0,
      "outputs": []
    },
    {
      "cell_type": "markdown",
      "metadata": {
        "id": "BkuTw__0QShy",
        "colab_type": "text"
      },
      "source": [
        "#Functions"
      ]
    },
    {
      "cell_type": "code",
      "metadata": {
        "id": "sZDG3Yf7QaAO",
        "colab_type": "code",
        "colab": {}
      },
      "source": [
        "def Function_name (arguments):\n",
        "  #function defination \n",
        "  return 0"
      ],
      "execution_count": 0,
      "outputs": []
    },
    {
      "cell_type": "code",
      "metadata": {
        "id": "oXO5xCz2RIyn",
        "colab_type": "code",
        "colab": {
          "base_uri": "https://localhost:8080/",
          "height": 67
        },
        "outputId": "f9ede92f-a5bc-4050-dfa0-a83e23ec290e"
      },
      "source": [
        "def Largest_of_Two(a,b):\n",
        "  if (a>b):\n",
        "    return a\n",
        "  else :\n",
        "    return b\n",
        "  \n",
        "print(Largest_of_Two(2,5))\n",
        "print(Largest_of_Two(12,5))\n",
        "\n",
        "print(Largest_of_Two(5.5,7.8))"
      ],
      "execution_count": 88,
      "outputs": [
        {
          "output_type": "stream",
          "text": [
            "5\n",
            "12\n",
            "7.8\n"
          ],
          "name": "stdout"
        }
      ]
    },
    {
      "cell_type": "code",
      "metadata": {
        "id": "pW9d4kdARmCa",
        "colab_type": "code",
        "colab": {
          "base_uri": "https://localhost:8080/",
          "height": 67
        },
        "outputId": "cc20c141-00e8-4bf1-a709-39c9d58caa87"
      },
      "source": [
        "def ODD_Even (a):\n",
        "  if a%2==0:\n",
        "    print(\"even\")\n",
        "  else :\n",
        "    print(\"Odd\")\n",
        "\n",
        "ODD_Even(5)\n",
        "\n",
        "ODD_Even(77)\n",
        "\n",
        "ODD_Even(10)"
      ],
      "execution_count": 89,
      "outputs": [
        {
          "output_type": "stream",
          "text": [
            "Odd\n",
            "Odd\n",
            "even\n"
          ],
          "name": "stdout"
        }
      ]
    },
    {
      "cell_type": "code",
      "metadata": {
        "id": "StyDb33kSCZ4",
        "colab_type": "code",
        "colab": {
          "base_uri": "https://localhost:8080/",
          "height": 50
        },
        "outputId": "eee2a51b-f735-4412-e2c4-b2e08fa3859b"
      },
      "source": [
        "def Add_item_Dict (a,key,val=1):\n",
        "  if key in a:\n",
        "    a[key] += val\n",
        "  else:\n",
        "    a[key] = val\n",
        "  return a\n",
        "\n",
        "a={\"Item 1\":1,\"Item 2\":3,\"Item 3\":10}\n",
        "\n",
        "a = Add_item_Dict(a,\"Item 3\",3)\n",
        "print(a)\n",
        "a = Add_item_Dict(a,\"Item 4\",5)\n",
        "print(a)"
      ],
      "execution_count": 90,
      "outputs": [
        {
          "output_type": "stream",
          "text": [
            "{'Item 1': 1, 'Item 2': 3, 'Item 3': 13}\n",
            "{'Item 1': 1, 'Item 2': 3, 'Item 3': 13, 'Item 4': 5}\n"
          ],
          "name": "stdout"
        }
      ]
    },
    {
      "cell_type": "markdown",
      "metadata": {
        "id": "X-E8m65sVefW",
        "colab_type": "text"
      },
      "source": [
        "#Classes\n",
        "\n",
        "A sttructure contaning variables and functions."
      ]
    },
    {
      "cell_type": "code",
      "metadata": {
        "id": "jDEJOm2IVgpF",
        "colab_type": "code",
        "colab": {}
      },
      "source": [
        "class Shooping_List:\n",
        "  def __init__(self):\n",
        "    self.listdict = {}\n",
        "    \n",
        "  def addItem(self,key, val):\n",
        "    if key in self.listdict:\n",
        "      self.listdict[key] += val\n",
        "    else:\n",
        "      self.listdict[key] = val\n",
        "  def remItem (self, key):\n",
        "    del self.listdict[Key]\n",
        "    \n",
        "  def updateItem(self,key,val):\n",
        "    \n",
        "    self.listdict[key] = val\n",
        "    \n",
        "  def printVal(self,key):\n",
        "    print(self.listdict[key])"
      ],
      "execution_count": 0,
      "outputs": []
    },
    {
      "cell_type": "code",
      "metadata": {
        "id": "s8BsqVj7ZMhr",
        "colab_type": "code",
        "colab": {}
      },
      "source": [
        ""
      ],
      "execution_count": 0,
      "outputs": []
    }
  ]
}